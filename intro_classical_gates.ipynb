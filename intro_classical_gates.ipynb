{
 "cells": [
  {
   "cell_type": "markdown",
   "id": "bc70c9cd",
   "metadata": {},
   "source": [
    "# Requirements"
   ]
  },
  {
   "cell_type": "code",
   "execution_count": null,
   "id": "f6760e07",
   "metadata": {},
   "outputs": [],
   "source": []
  },
  {
   "cell_type": "markdown",
   "id": "db70c76f",
   "metadata": {},
   "source": [
    "# Introduction"
   ]
  },
  {
   "cell_type": "markdown",
   "id": "0149fd1a",
   "metadata": {},
   "source": [
    "# Introduction to Classical Logic Gates\n",
    "\n",
    "Classical logic gates are the fundamental building blocks of digital circuits. They are used in various electronic devices and computing systems to perform basic logical operations. Each gate processes one or more binary inputs (0 or 1) to produce a single binary output. Understanding these gates is crucial for anyone studying electronics, computer engineering, or computer science. The most common classical logic gates are:\n",
    "\n",
    "1. **NOT Gate**: A unary gate that inverts the input.\n",
    "2. **AND Gate**: Outputs 1 only if all inputs are 1.\n",
    "3. **OR Gate**: Outputs 1 if at least one input is 1.\n",
    "4. **XOR Gate**: Outputs 1 only if the inputs are different.\n",
    "5. **NAND Gate**: The inverse of AND Gate.\n",
    "6. **NOR Gate**: The inverse of OR Gate.\n",
    "7. **XNOR Gate**: The inverse of XOR Gate."
   ]
  },
  {
   "cell_type": "markdown",
   "id": "5cea1a45",
   "metadata": {},
   "source": [
    "![Local Image](./images/classgates01.png)"
   ]
  },
  {
   "cell_type": "markdown",
   "id": "d5d12d59",
   "metadata": {},
   "source": [
    "# Functions"
   ]
  },
  {
   "cell_type": "code",
   "execution_count": null,
   "id": "b02db1dc",
   "metadata": {},
   "outputs": [],
   "source": [
    "# NOT Gate\n",
    "def NOT(input):\n",
    "    return 1 if input == 0 else 0\n",
    "\n",
    "# AND Gate\n",
    "def AND(input1, input2):\n",
    "    return 1 if (input1 == 1 and input2 == 1) else 0\n",
    "\n",
    "# OR Gate\n",
    "def OR(input1, input2):\n",
    "    return 1 if (input1 == 1 or input2 == 1) else 0\n",
    "\n",
    "# XOR Gate\n",
    "def XOR(input1, input2):\n",
    "    return 1 if input1 != input2 else 0\n",
    "\n",
    "# NAND Gate\n",
    "def NAND(input1, input2):\n",
    "    return 1 if not (input1 == 1 and input2 == 1) else 0\n",
    "\n",
    "# NOR Gate\n",
    "def NOR(input1, input2):\n",
    "    return 1 if (input1 == 0 and input2 == 0) else 0\n",
    "\n",
    "# XNOR Gate\n",
    "def XNOR(input1, input2):\n",
    "    return 1 if input1 == input2 else 0"
   ]
  },
  {
   "cell_type": "code",
   "execution_count": 10,
   "id": "7bc98319",
   "metadata": {
    "ExecuteTime": {
     "end_time": "2023-12-16T13:11:51.603408Z",
     "start_time": "2023-12-16T13:11:51.598410Z"
    }
   },
   "outputs": [],
   "source": [
    "# Function to simulate OR Gate\n",
    "def OR(A, B):\n",
    "    return A | B\n",
    "\n",
    "# Function to simulate AND Gate\n",
    "def AND(A, B):\n",
    "    return A & B\n",
    "\n",
    "# Function to simulate NOT Gate\n",
    "def NOT(A):\n",
    "    return ~A+2\n",
    "\n",
    "# Function to simulate NAND Gate\n",
    "def NAND(A, B):\n",
    "    return NOT(AND(A, B))\n",
    "\n",
    "# Function to simulate NOR Gate\n",
    "def NOR(A, B):\n",
    "    return NOT(OR(A, B))\n",
    "\n",
    "# Function to simulate XOR Gate\n",
    "def XOR(A, B):\n",
    "    return A ^ B\n",
    "\n",
    "# Function to simulate XNOR Gate\n",
    "def XNOR(A, B):\n",
    "    return NOT(XOR(A, B))"
   ]
  },
  {
   "cell_type": "code",
   "execution_count": 17,
   "id": "47ca88b7",
   "metadata": {
    "ExecuteTime": {
     "end_time": "2023-12-16T13:23:26.566921Z",
     "start_time": "2023-12-16T13:23:26.558249Z"
    }
   },
   "outputs": [],
   "source": [
    "def print_results_classgates():\n",
    "    # Test each gate with all possible inputs (0 and 1)\n",
    "    test_inputs = [(0, 0), (0, 1), (1, 0), (1, 1)]\n",
    "    # Results\n",
    "    results = {\n",
    "        \"NOT\": [NOT(input[0]) for input in test_inputs],\n",
    "        \"AND\": [AND(input[0], input[1]) for input in test_inputs],\n",
    "        \"OR\": [OR(input[0], input[1]) for input in test_inputs],\n",
    "        \"XOR\": [XOR(input[0], input[1]) for input in test_inputs],\n",
    "        \"NAND\": [NAND(input[0], input[1]) for input in test_inputs],\n",
    "        \"NOR\": [NOR(input[0], input[1]) for input in test_inputs],\n",
    "        \"XNOR\": [XNOR(input[0], input[1]) for input in test_inputs],\n",
    "    }\n",
    "    return results, test_inputs"
   ]
  },
  {
   "cell_type": "markdown",
   "id": "73cb5baf",
   "metadata": {},
   "source": [
    "# Classical gates"
   ]
  },
  {
   "cell_type": "code",
   "execution_count": 19,
   "id": "55c82fe3",
   "metadata": {
    "ExecuteTime": {
     "end_time": "2023-12-16T13:23:47.661981Z",
     "start_time": "2023-12-16T13:23:47.656122Z"
    }
   },
   "outputs": [],
   "source": [
    "results, test_inputs = print_results_classgates()"
   ]
  },
  {
   "cell_type": "markdown",
   "id": "5806caeb",
   "metadata": {},
   "source": [
    "## NOT Gate\n",
    "\n",
    "<img src=\"./images/not.png\" width=\"200\" height=\"200\">\n",
    "\n",
    "| Input | Output |\n",
    "|-------|--------|\n",
    "| 0     | 1      |\n",
    "| 1     | 0      |"
   ]
  },
  {
   "cell_type": "code",
   "execution_count": 22,
   "id": "d9a1a246",
   "metadata": {
    "ExecuteTime": {
     "end_time": "2023-12-16T13:28:44.034067Z",
     "start_time": "2023-12-16T13:28:44.019402Z"
    }
   },
   "outputs": [
    {
     "data": {
      "text/plain": [
       "1"
      ]
     },
     "execution_count": 22,
     "metadata": {},
     "output_type": "execute_result"
    }
   ],
   "source": [
    "NOT(0)"
   ]
  },
  {
   "cell_type": "code",
   "execution_count": 23,
   "id": "27dd87a4",
   "metadata": {
    "ExecuteTime": {
     "end_time": "2023-12-16T13:28:49.850624Z",
     "start_time": "2023-12-16T13:28:49.843921Z"
    }
   },
   "outputs": [
    {
     "data": {
      "text/plain": [
       "0"
      ]
     },
     "execution_count": 23,
     "metadata": {},
     "output_type": "execute_result"
    }
   ],
   "source": [
    "NOT(1)"
   ]
  },
  {
   "cell_type": "markdown",
   "id": "79af147f",
   "metadata": {},
   "source": [
    "## AND Gate\n",
    "\n",
    "\n",
    "| Input 1 | Input 2 | Output |\n",
    "|---------|---------|--------|\n",
    "| 0       | 0       | 0      |\n",
    "| 0       | 1       | 0      |\n",
    "| 1       | 0       | 0      |\n",
    "| 1       | 1       | 1      |"
   ]
  },
  {
   "cell_type": "code",
   "execution_count": null,
   "id": "36b9416b",
   "metadata": {},
   "outputs": [],
   "source": []
  },
  {
   "cell_type": "markdown",
   "id": "9093f224",
   "metadata": {},
   "source": [
    "## OR Gate\n",
    "| Input 1 | Input 2 | Output |\n",
    "|---------|---------|--------|\n",
    "| 0       | 0       | 0      |\n",
    "| 0       | 1       | 1      |\n",
    "| 1       | 0       | 1      |\n",
    "| 1       | 1       | 1      |"
   ]
  },
  {
   "cell_type": "code",
   "execution_count": null,
   "id": "723e9669",
   "metadata": {},
   "outputs": [],
   "source": []
  },
  {
   "cell_type": "markdown",
   "id": "fbcc829d",
   "metadata": {},
   "source": [
    "## XOR Gate\n",
    "| Input 1 | Input 2 | Output |\n",
    "|---------|---------|--------|\n",
    "| 0       | 0       | 0      |\n",
    "| 0       | 1       | 1      |\n",
    "| 1       | 0       | 1      |\n",
    "| 1       | 1       | 0      |"
   ]
  },
  {
   "cell_type": "code",
   "execution_count": null,
   "id": "90ea4d3e",
   "metadata": {},
   "outputs": [],
   "source": []
  },
  {
   "cell_type": "markdown",
   "id": "3228c802",
   "metadata": {},
   "source": [
    "## NAND Gate\n",
    "| Input 1 | Input 2 | Output |\n",
    "|---------|---------|--------|\n",
    "| 0       | 0       | 1      |\n",
    "| 0       | 1       | 1      |\n",
    "| 1       | 0       | 1      |\n",
    "| 1       | 1       | 0      |"
   ]
  },
  {
   "cell_type": "code",
   "execution_count": null,
   "id": "5ad51292",
   "metadata": {},
   "outputs": [],
   "source": []
  },
  {
   "cell_type": "markdown",
   "id": "bc8fb221",
   "metadata": {},
   "source": [
    "## NOR Gate\n",
    "| Input 1 | Input 2 | Output |\n",
    "|---------|---------|--------|\n",
    "| 0       | 0       | 1      |\n",
    "| 0       | 1       | 0      |\n",
    "| 1       | 0       | 0      |\n",
    "| 1       | 1       | 0      |"
   ]
  },
  {
   "cell_type": "code",
   "execution_count": null,
   "id": "420a6762",
   "metadata": {},
   "outputs": [],
   "source": []
  },
  {
   "cell_type": "markdown",
   "id": "99d967a8",
   "metadata": {},
   "source": [
    "## XNOR Gate\n",
    "| Input 1 | Input 2 | Output |\n",
    "|---------|---------|--------|\n",
    "| 0       | 0       | 1      |\n",
    "| 0       | 1       | 0      |\n",
    "| 1       | 0       | 0      |\n",
    "| 1       | 1       | 1      |\n"
   ]
  },
  {
   "cell_type": "code",
   "execution_count": null,
   "id": "15499eb0",
   "metadata": {},
   "outputs": [],
   "source": []
  },
  {
   "cell_type": "code",
   "execution_count": null,
   "id": "8fba3d4d",
   "metadata": {},
   "outputs": [],
   "source": []
  },
  {
   "cell_type": "markdown",
   "id": "453c44cd",
   "metadata": {},
   "source": [
    "# References\n",
    "\n",
    "* https://www.digitalocean.com/community/tutorials/logic-gates-in-python\n",
    "* https://www.geeksforgeeks.org/logic-gates-in-python/\n",
    "* https://gamedevacademy.org/python-logic-gates-tutorial-complete-guide/"
   ]
  }
 ],
 "metadata": {
  "hide_input": false,
  "kernelspec": {
   "display_name": "Python 3 (ipykernel)",
   "language": "python",
   "name": "python3"
  },
  "language_info": {
   "codemirror_mode": {
    "name": "ipython",
    "version": 3
   },
   "file_extension": ".py",
   "mimetype": "text/x-python",
   "name": "python",
   "nbconvert_exporter": "python",
   "pygments_lexer": "ipython3",
   "version": "3.9.13"
  },
  "toc": {
   "base_numbering": 1,
   "nav_menu": {},
   "number_sections": true,
   "sideBar": true,
   "skip_h1_title": false,
   "title_cell": "Table of Contents",
   "title_sidebar": "Contents",
   "toc_cell": false,
   "toc_position": {},
   "toc_section_display": true,
   "toc_window_display": false
  }
 },
 "nbformat": 4,
 "nbformat_minor": 5
}
