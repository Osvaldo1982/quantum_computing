{
 "cells": [
  {
   "cell_type": "markdown",
   "id": "85d46779",
   "metadata": {},
   "source": [
    "# Requirements"
   ]
  },
  {
   "cell_type": "code",
   "execution_count": 25,
   "id": "b1e4b6a2",
   "metadata": {
    "ExecuteTime": {
     "end_time": "2023-12-16T13:35:16.392146Z",
     "start_time": "2023-12-16T13:35:15.813204Z"
    }
   },
   "outputs": [],
   "source": [
    "from itertools import product\n",
    "import pandas as pd\n",
    "import numpy as np"
   ]
  },
  {
   "cell_type": "markdown",
   "id": "60e507f5",
   "metadata": {},
   "source": [
    "# Introduction"
   ]
  },
  {
   "cell_type": "markdown",
   "id": "7efe8006",
   "metadata": {},
   "source": [
    "# Introduction to Classical Logic Gates\n",
    "\n",
    "Classical logic gates are the fundamental building blocks of digital circuits. They are used in various electronic devices and computing systems to perform basic logical operations. Each gate processes one or more binary inputs (0 or 1) to produce a single binary output. Understanding these gates is crucial for anyone studying electronics, computer engineering, or computer science. The most common classical logic gates are:\n",
    "\n",
    "1. **NOT Gate**: A unary gate that inverts the input.\n",
    "2. **AND Gate**: Outputs 1 only if all inputs are 1.\n",
    "3. **OR Gate**: Outputs 1 if at least one input is 1.\n",
    "4. **XOR Gate**: Outputs 1 only if the inputs are different.\n",
    "5. **NAND Gate**: The inverse of AND Gate.\n",
    "6. **NOR Gate**: The inverse of OR Gate.\n",
    "7. **XNOR Gate**: The inverse of XOR Gate."
   ]
  },
  {
   "cell_type": "markdown",
   "id": "e15e2074",
   "metadata": {},
   "source": [
    "![Local Image](./images/classgates01.png)"
   ]
  },
  {
   "cell_type": "markdown",
   "id": "4084b416",
   "metadata": {},
   "source": [
    "# Functions"
   ]
  },
  {
   "cell_type": "markdown",
   "id": "ac5edb5c",
   "metadata": {
    "heading_collapsed": true
   },
   "source": [
    "## obvious class gates"
   ]
  },
  {
   "cell_type": "code",
   "execution_count": null,
   "id": "7ce0bd20",
   "metadata": {
    "hidden": true
   },
   "outputs": [],
   "source": [
    "# NOT Gate\n",
    "def NOT(input):\n",
    "    return 1 if input == 0 else 0\n",
    "\n",
    "# AND Gate\n",
    "def AND(input1, input2):\n",
    "    return 1 if (input1 == 1 and input2 == 1) else 0\n",
    "\n",
    "# OR Gate\n",
    "def OR(input1, input2):\n",
    "    return 1 if (input1 == 1 or input2 == 1) else 0\n",
    "\n",
    "# XOR Gate\n",
    "def XOR(input1, input2):\n",
    "    return 1 if input1 != input2 else 0\n",
    "\n",
    "# NAND Gate\n",
    "def NAND(input1, input2):\n",
    "    return 1 if not (input1 == 1 and input2 == 1) else 0\n",
    "\n",
    "# NOR Gate\n",
    "def NOR(input1, input2):\n",
    "    return 1 if (input1 == 0 and input2 == 0) else 0\n",
    "\n",
    "# XNOR Gate\n",
    "def XNOR(input1, input2):\n",
    "    return 1 if input1 == input2 else 0"
   ]
  },
  {
   "cell_type": "markdown",
   "id": "6ccbd6c9",
   "metadata": {
    "heading_collapsed": true
   },
   "source": [
    "## pythonic class gates"
   ]
  },
  {
   "cell_type": "code",
   "execution_count": 10,
   "id": "891f8661",
   "metadata": {
    "ExecuteTime": {
     "end_time": "2023-12-16T13:11:51.603408Z",
     "start_time": "2023-12-16T13:11:51.598410Z"
    },
    "hidden": true
   },
   "outputs": [],
   "source": [
    "# Function to simulate OR Gate\n",
    "def OR(A, B):\n",
    "    return A | B\n",
    "\n",
    "# Function to simulate AND Gate\n",
    "def AND(A, B):\n",
    "    return A & B\n",
    "\n",
    "# Function to simulate NOT Gate\n",
    "def NOT(A):\n",
    "    return ~A+2\n",
    "\n",
    "# Function to simulate NAND Gate\n",
    "def NAND(A, B):\n",
    "    return NOT(AND(A, B))\n",
    "\n",
    "# Function to simulate NOR Gate\n",
    "def NOR(A, B):\n",
    "    return NOT(OR(A, B))\n",
    "\n",
    "# Function to simulate XOR Gate\n",
    "def XOR(A, B):\n",
    "    return A ^ B\n",
    "\n",
    "# Function to simulate XNOR Gate\n",
    "def XNOR(A, B):\n",
    "    return NOT(XOR(A, B))"
   ]
  },
  {
   "cell_type": "markdown",
   "id": "d4c1ceb0",
   "metadata": {
    "heading_collapsed": true
   },
   "source": [
    "## df class gates"
   ]
  },
  {
   "cell_type": "code",
   "execution_count": 39,
   "id": "1f464166",
   "metadata": {
    "ExecuteTime": {
     "end_time": "2023-12-16T13:45:09.759420Z",
     "start_time": "2023-12-16T13:45:09.747374Z"
    },
    "hidden": true
   },
   "outputs": [],
   "source": [
    "# Create a DataFrame for each classical logic gate\n",
    "def create_df_class_gates():\n",
    "    # NOT Gate (Unary, so it only needs one column of input)\n",
    "    df_not = pd.DataFrame({\n",
    "        'Input': [0, 1],\n",
    "        'NOT Output': [1, 0]\n",
    "    })\n",
    "    # AND Gate\n",
    "    df_and = pd.DataFrame({\n",
    "        'Input 1': [0, 0, 1, 1],\n",
    "        'Input 2': [0, 1, 0, 1],\n",
    "        'AND Output': [0, 0, 0, 1]\n",
    "    })\n",
    "    # OR Gate\n",
    "    df_or = pd.DataFrame({\n",
    "        'Input 1': [0, 0, 1, 1],\n",
    "        'Input 2': [0, 1, 0, 1],\n",
    "        'OR Output': [0, 1, 1, 1]\n",
    "    })\n",
    "    # XOR Gate\n",
    "    df_xor = pd.DataFrame({\n",
    "        'Input 1': [0, 0, 1, 1],\n",
    "        'Input 2': [0, 1, 0, 1],\n",
    "        'XOR Output': [0, 1, 1, 0]\n",
    "    })\n",
    "    # NAND Gate\n",
    "    df_nand = pd.DataFrame({\n",
    "        'Input 1': [0, 0, 1, 1],\n",
    "        'Input 2': [0, 1, 0, 1],\n",
    "        'NAND Output': [1, 1, 1, 0]\n",
    "    })\n",
    "    # NOR Gate\n",
    "    df_nor = pd.DataFrame({\n",
    "        'Input 1': [0, 0, 1, 1],\n",
    "        'Input 2': [0, 1, 0, 1],\n",
    "        'NOR Output': [1, 0, 0, 0]\n",
    "    })\n",
    "    # XNOR Gate\n",
    "    df_xnor = pd.DataFrame({\n",
    "        'Input 1': [0, 0, 1, 1],\n",
    "        'Input 2': [0, 1, 0, 1],\n",
    "        'XNOR Output': [1, 0, 0, 1]\n",
    "    })\n",
    "    return df_not, df_and, df_or, df_xor, df_nand, df_nor, df_xnor\n"
   ]
  },
  {
   "cell_type": "markdown",
   "id": "492a2f58",
   "metadata": {},
   "source": [
    "## results class gates"
   ]
  },
  {
   "cell_type": "code",
   "execution_count": 32,
   "id": "803e8d51",
   "metadata": {
    "ExecuteTime": {
     "end_time": "2023-12-16T13:37:35.282090Z",
     "start_time": "2023-12-16T13:37:35.273198Z"
    }
   },
   "outputs": [],
   "source": [
    "def print_results_classgates(test_inputs):\n",
    "    # Results\n",
    "    results = {\n",
    "        \"NOT\": [NOT(input[0]) for input in test_inputs],\n",
    "        \"AND\": [AND(input[0], input[1]) for input in test_inputs],\n",
    "        \"OR\": [OR(input[0], input[1]) for input in test_inputs],\n",
    "        \"XOR\": [XOR(input[0], input[1]) for input in test_inputs],\n",
    "        \"NAND\": [NAND(input[0], input[1]) for input in test_inputs],\n",
    "        \"NOR\": [NOR(input[0], input[1]) for input in test_inputs],\n",
    "        \"XNOR\": [XNOR(input[0], input[1]) for input in test_inputs],\n",
    "    }\n",
    "    return results"
   ]
  },
  {
   "cell_type": "markdown",
   "id": "803953bf",
   "metadata": {},
   "source": [
    "# Classical gates"
   ]
  },
  {
   "cell_type": "code",
   "execution_count": 42,
   "id": "3edc3534",
   "metadata": {
    "ExecuteTime": {
     "end_time": "2023-12-16T13:47:19.428793Z",
     "start_time": "2023-12-16T13:47:19.420796Z"
    }
   },
   "outputs": [
    {
     "data": {
      "text/plain": [
       "{'NOT': [1, 1, 0, 0],\n",
       " 'AND': [0, 0, 0, 1],\n",
       " 'OR': [0, 1, 1, 1],\n",
       " 'XOR': [0, 1, 1, 0],\n",
       " 'NAND': [1, 1, 1, 0],\n",
       " 'NOR': [1, 0, 0, 0],\n",
       " 'XNOR': [1, 0, 0, 1]}"
      ]
     },
     "execution_count": 42,
     "metadata": {},
     "output_type": "execute_result"
    }
   ],
   "source": [
    "# generates dataframes for each classical gate using function\n",
    "df_not, df_and, df_or, df_xor, df_nand, df_nor, df_xnor = create_df_class_gates()\n",
    "# generates 2-uples with test inputs\n",
    "test_inputs = list(product([0, 1], repeat=2))\n",
    "# runs the function to generate classical gates outputs\n",
    "results = print_results_classgates(test_inputs)\n",
    "results"
   ]
  },
  {
   "cell_type": "code",
   "execution_count": 24,
   "id": "3cf17c6b",
   "metadata": {
    "ExecuteTime": {
     "end_time": "2023-12-16T13:33:52.734137Z",
     "start_time": "2023-12-16T13:33:52.729016Z"
    }
   },
   "outputs": [],
   "source": [
    "# Combination of AND, OR, and NOT gates\n",
    "def combination(a, b, c):\n",
    "    return a and not(b or c)"
   ]
  },
  {
   "cell_type": "markdown",
   "id": "cf323884",
   "metadata": {},
   "source": [
    "## NOT Gate"
   ]
  },
  {
   "cell_type": "markdown",
   "id": "d3c65511",
   "metadata": {},
   "source": [
    "<img src=\"./images/not.png\" width=\"200\" height=\"200\">"
   ]
  },
  {
   "cell_type": "code",
   "execution_count": 43,
   "id": "cb62a0b2",
   "metadata": {
    "ExecuteTime": {
     "end_time": "2023-12-16T13:47:31.359695Z",
     "start_time": "2023-12-16T13:47:31.335675Z"
    }
   },
   "outputs": [
    {
     "data": {
      "text/html": [
       "<div>\n",
       "<style scoped>\n",
       "    .dataframe tbody tr th:only-of-type {\n",
       "        vertical-align: middle;\n",
       "    }\n",
       "\n",
       "    .dataframe tbody tr th {\n",
       "        vertical-align: top;\n",
       "    }\n",
       "\n",
       "    .dataframe thead th {\n",
       "        text-align: right;\n",
       "    }\n",
       "</style>\n",
       "<table border=\"1\" class=\"dataframe\">\n",
       "  <thead>\n",
       "    <tr style=\"text-align: right;\">\n",
       "      <th></th>\n",
       "      <th>Input</th>\n",
       "      <th>NOT Output</th>\n",
       "    </tr>\n",
       "  </thead>\n",
       "  <tbody>\n",
       "    <tr>\n",
       "      <th>0</th>\n",
       "      <td>0</td>\n",
       "      <td>1</td>\n",
       "    </tr>\n",
       "    <tr>\n",
       "      <th>1</th>\n",
       "      <td>1</td>\n",
       "      <td>0</td>\n",
       "    </tr>\n",
       "  </tbody>\n",
       "</table>\n",
       "</div>"
      ],
      "text/plain": [
       "   Input  NOT Output\n",
       "0      0           1\n",
       "1      1           0"
      ]
     },
     "execution_count": 43,
     "metadata": {},
     "output_type": "execute_result"
    }
   ],
   "source": [
    "df_not"
   ]
  },
  {
   "cell_type": "markdown",
   "id": "a1b9d153",
   "metadata": {},
   "source": [
    "## AND Gate"
   ]
  },
  {
   "cell_type": "markdown",
   "id": "3cdaba95",
   "metadata": {},
   "source": [
    "<img src=\"./images/and.png\" width=\"200\" height=\"200\">"
   ]
  },
  {
   "cell_type": "code",
   "execution_count": 44,
   "id": "c05ca449",
   "metadata": {
    "ExecuteTime": {
     "end_time": "2023-12-16T13:47:44.334276Z",
     "start_time": "2023-12-16T13:47:44.328685Z"
    }
   },
   "outputs": [
    {
     "data": {
      "text/html": [
       "<div>\n",
       "<style scoped>\n",
       "    .dataframe tbody tr th:only-of-type {\n",
       "        vertical-align: middle;\n",
       "    }\n",
       "\n",
       "    .dataframe tbody tr th {\n",
       "        vertical-align: top;\n",
       "    }\n",
       "\n",
       "    .dataframe thead th {\n",
       "        text-align: right;\n",
       "    }\n",
       "</style>\n",
       "<table border=\"1\" class=\"dataframe\">\n",
       "  <thead>\n",
       "    <tr style=\"text-align: right;\">\n",
       "      <th></th>\n",
       "      <th>Input 1</th>\n",
       "      <th>Input 2</th>\n",
       "      <th>AND Output</th>\n",
       "    </tr>\n",
       "  </thead>\n",
       "  <tbody>\n",
       "    <tr>\n",
       "      <th>0</th>\n",
       "      <td>0</td>\n",
       "      <td>0</td>\n",
       "      <td>0</td>\n",
       "    </tr>\n",
       "    <tr>\n",
       "      <th>1</th>\n",
       "      <td>0</td>\n",
       "      <td>1</td>\n",
       "      <td>0</td>\n",
       "    </tr>\n",
       "    <tr>\n",
       "      <th>2</th>\n",
       "      <td>1</td>\n",
       "      <td>0</td>\n",
       "      <td>0</td>\n",
       "    </tr>\n",
       "    <tr>\n",
       "      <th>3</th>\n",
       "      <td>1</td>\n",
       "      <td>1</td>\n",
       "      <td>1</td>\n",
       "    </tr>\n",
       "  </tbody>\n",
       "</table>\n",
       "</div>"
      ],
      "text/plain": [
       "   Input 1  Input 2  AND Output\n",
       "0        0        0           0\n",
       "1        0        1           0\n",
       "2        1        0           0\n",
       "3        1        1           1"
      ]
     },
     "execution_count": 44,
     "metadata": {},
     "output_type": "execute_result"
    }
   ],
   "source": [
    "df_and"
   ]
  },
  {
   "cell_type": "markdown",
   "id": "4585a535",
   "metadata": {},
   "source": [
    "## OR Gate"
   ]
  },
  {
   "cell_type": "code",
   "execution_count": 45,
   "id": "c19ad59f",
   "metadata": {
    "ExecuteTime": {
     "end_time": "2023-12-16T13:47:53.628388Z",
     "start_time": "2023-12-16T13:47:53.608824Z"
    }
   },
   "outputs": [
    {
     "data": {
      "text/html": [
       "<div>\n",
       "<style scoped>\n",
       "    .dataframe tbody tr th:only-of-type {\n",
       "        vertical-align: middle;\n",
       "    }\n",
       "\n",
       "    .dataframe tbody tr th {\n",
       "        vertical-align: top;\n",
       "    }\n",
       "\n",
       "    .dataframe thead th {\n",
       "        text-align: right;\n",
       "    }\n",
       "</style>\n",
       "<table border=\"1\" class=\"dataframe\">\n",
       "  <thead>\n",
       "    <tr style=\"text-align: right;\">\n",
       "      <th></th>\n",
       "      <th>Input 1</th>\n",
       "      <th>Input 2</th>\n",
       "      <th>OR Output</th>\n",
       "    </tr>\n",
       "  </thead>\n",
       "  <tbody>\n",
       "    <tr>\n",
       "      <th>0</th>\n",
       "      <td>0</td>\n",
       "      <td>0</td>\n",
       "      <td>0</td>\n",
       "    </tr>\n",
       "    <tr>\n",
       "      <th>1</th>\n",
       "      <td>0</td>\n",
       "      <td>1</td>\n",
       "      <td>1</td>\n",
       "    </tr>\n",
       "    <tr>\n",
       "      <th>2</th>\n",
       "      <td>1</td>\n",
       "      <td>0</td>\n",
       "      <td>1</td>\n",
       "    </tr>\n",
       "    <tr>\n",
       "      <th>3</th>\n",
       "      <td>1</td>\n",
       "      <td>1</td>\n",
       "      <td>1</td>\n",
       "    </tr>\n",
       "  </tbody>\n",
       "</table>\n",
       "</div>"
      ],
      "text/plain": [
       "   Input 1  Input 2  OR Output\n",
       "0        0        0          0\n",
       "1        0        1          1\n",
       "2        1        0          1\n",
       "3        1        1          1"
      ]
     },
     "execution_count": 45,
     "metadata": {},
     "output_type": "execute_result"
    }
   ],
   "source": [
    "df_or"
   ]
  },
  {
   "cell_type": "markdown",
   "id": "296b3aea",
   "metadata": {},
   "source": [
    "## XOR Gate"
   ]
  },
  {
   "cell_type": "code",
   "execution_count": 49,
   "id": "e6c105ec",
   "metadata": {
    "ExecuteTime": {
     "end_time": "2023-12-16T13:49:44.599174Z",
     "start_time": "2023-12-16T13:49:44.594131Z"
    }
   },
   "outputs": [
    {
     "data": {
      "text/html": [
       "<div>\n",
       "<style scoped>\n",
       "    .dataframe tbody tr th:only-of-type {\n",
       "        vertical-align: middle;\n",
       "    }\n",
       "\n",
       "    .dataframe tbody tr th {\n",
       "        vertical-align: top;\n",
       "    }\n",
       "\n",
       "    .dataframe thead th {\n",
       "        text-align: right;\n",
       "    }\n",
       "</style>\n",
       "<table border=\"1\" class=\"dataframe\">\n",
       "  <thead>\n",
       "    <tr style=\"text-align: right;\">\n",
       "      <th></th>\n",
       "      <th>Input 1</th>\n",
       "      <th>Input 2</th>\n",
       "      <th>XOR Output</th>\n",
       "    </tr>\n",
       "  </thead>\n",
       "  <tbody>\n",
       "    <tr>\n",
       "      <th>0</th>\n",
       "      <td>0</td>\n",
       "      <td>0</td>\n",
       "      <td>0</td>\n",
       "    </tr>\n",
       "    <tr>\n",
       "      <th>1</th>\n",
       "      <td>0</td>\n",
       "      <td>1</td>\n",
       "      <td>1</td>\n",
       "    </tr>\n",
       "    <tr>\n",
       "      <th>2</th>\n",
       "      <td>1</td>\n",
       "      <td>0</td>\n",
       "      <td>1</td>\n",
       "    </tr>\n",
       "    <tr>\n",
       "      <th>3</th>\n",
       "      <td>1</td>\n",
       "      <td>1</td>\n",
       "      <td>0</td>\n",
       "    </tr>\n",
       "  </tbody>\n",
       "</table>\n",
       "</div>"
      ],
      "text/plain": [
       "   Input 1  Input 2  XOR Output\n",
       "0        0        0           0\n",
       "1        0        1           1\n",
       "2        1        0           1\n",
       "3        1        1           0"
      ]
     },
     "execution_count": 49,
     "metadata": {},
     "output_type": "execute_result"
    }
   ],
   "source": [
    "df_xor"
   ]
  },
  {
   "cell_type": "markdown",
   "id": "12c707e5",
   "metadata": {},
   "source": [
    "## NAND Gate"
   ]
  },
  {
   "cell_type": "code",
   "execution_count": 48,
   "id": "ab8f7ed6",
   "metadata": {
    "ExecuteTime": {
     "end_time": "2023-12-16T13:49:39.319598Z",
     "start_time": "2023-12-16T13:49:39.306337Z"
    }
   },
   "outputs": [
    {
     "data": {
      "text/html": [
       "<div>\n",
       "<style scoped>\n",
       "    .dataframe tbody tr th:only-of-type {\n",
       "        vertical-align: middle;\n",
       "    }\n",
       "\n",
       "    .dataframe tbody tr th {\n",
       "        vertical-align: top;\n",
       "    }\n",
       "\n",
       "    .dataframe thead th {\n",
       "        text-align: right;\n",
       "    }\n",
       "</style>\n",
       "<table border=\"1\" class=\"dataframe\">\n",
       "  <thead>\n",
       "    <tr style=\"text-align: right;\">\n",
       "      <th></th>\n",
       "      <th>Input 1</th>\n",
       "      <th>Input 2</th>\n",
       "      <th>NAND Output</th>\n",
       "    </tr>\n",
       "  </thead>\n",
       "  <tbody>\n",
       "    <tr>\n",
       "      <th>0</th>\n",
       "      <td>0</td>\n",
       "      <td>0</td>\n",
       "      <td>1</td>\n",
       "    </tr>\n",
       "    <tr>\n",
       "      <th>1</th>\n",
       "      <td>0</td>\n",
       "      <td>1</td>\n",
       "      <td>1</td>\n",
       "    </tr>\n",
       "    <tr>\n",
       "      <th>2</th>\n",
       "      <td>1</td>\n",
       "      <td>0</td>\n",
       "      <td>1</td>\n",
       "    </tr>\n",
       "    <tr>\n",
       "      <th>3</th>\n",
       "      <td>1</td>\n",
       "      <td>1</td>\n",
       "      <td>0</td>\n",
       "    </tr>\n",
       "  </tbody>\n",
       "</table>\n",
       "</div>"
      ],
      "text/plain": [
       "   Input 1  Input 2  NAND Output\n",
       "0        0        0            1\n",
       "1        0        1            1\n",
       "2        1        0            1\n",
       "3        1        1            0"
      ]
     },
     "execution_count": 48,
     "metadata": {},
     "output_type": "execute_result"
    }
   ],
   "source": [
    "df_nand"
   ]
  },
  {
   "cell_type": "markdown",
   "id": "17008e35",
   "metadata": {},
   "source": [
    "## NOR Gate"
   ]
  },
  {
   "cell_type": "code",
   "execution_count": 47,
   "id": "c224a97b",
   "metadata": {
    "ExecuteTime": {
     "end_time": "2023-12-16T13:49:36.289305Z",
     "start_time": "2023-12-16T13:49:36.264302Z"
    }
   },
   "outputs": [
    {
     "data": {
      "text/html": [
       "<div>\n",
       "<style scoped>\n",
       "    .dataframe tbody tr th:only-of-type {\n",
       "        vertical-align: middle;\n",
       "    }\n",
       "\n",
       "    .dataframe tbody tr th {\n",
       "        vertical-align: top;\n",
       "    }\n",
       "\n",
       "    .dataframe thead th {\n",
       "        text-align: right;\n",
       "    }\n",
       "</style>\n",
       "<table border=\"1\" class=\"dataframe\">\n",
       "  <thead>\n",
       "    <tr style=\"text-align: right;\">\n",
       "      <th></th>\n",
       "      <th>Input 1</th>\n",
       "      <th>Input 2</th>\n",
       "      <th>NOR Output</th>\n",
       "    </tr>\n",
       "  </thead>\n",
       "  <tbody>\n",
       "    <tr>\n",
       "      <th>0</th>\n",
       "      <td>0</td>\n",
       "      <td>0</td>\n",
       "      <td>1</td>\n",
       "    </tr>\n",
       "    <tr>\n",
       "      <th>1</th>\n",
       "      <td>0</td>\n",
       "      <td>1</td>\n",
       "      <td>0</td>\n",
       "    </tr>\n",
       "    <tr>\n",
       "      <th>2</th>\n",
       "      <td>1</td>\n",
       "      <td>0</td>\n",
       "      <td>0</td>\n",
       "    </tr>\n",
       "    <tr>\n",
       "      <th>3</th>\n",
       "      <td>1</td>\n",
       "      <td>1</td>\n",
       "      <td>0</td>\n",
       "    </tr>\n",
       "  </tbody>\n",
       "</table>\n",
       "</div>"
      ],
      "text/plain": [
       "   Input 1  Input 2  NOR Output\n",
       "0        0        0           1\n",
       "1        0        1           0\n",
       "2        1        0           0\n",
       "3        1        1           0"
      ]
     },
     "execution_count": 47,
     "metadata": {},
     "output_type": "execute_result"
    }
   ],
   "source": [
    "df_nor"
   ]
  },
  {
   "cell_type": "markdown",
   "id": "3fc7817f",
   "metadata": {},
   "source": [
    "## XNOR Gate"
   ]
  },
  {
   "cell_type": "code",
   "execution_count": 46,
   "id": "53607c62",
   "metadata": {
    "ExecuteTime": {
     "end_time": "2023-12-16T13:49:33.246176Z",
     "start_time": "2023-12-16T13:49:33.240125Z"
    }
   },
   "outputs": [
    {
     "data": {
      "text/html": [
       "<div>\n",
       "<style scoped>\n",
       "    .dataframe tbody tr th:only-of-type {\n",
       "        vertical-align: middle;\n",
       "    }\n",
       "\n",
       "    .dataframe tbody tr th {\n",
       "        vertical-align: top;\n",
       "    }\n",
       "\n",
       "    .dataframe thead th {\n",
       "        text-align: right;\n",
       "    }\n",
       "</style>\n",
       "<table border=\"1\" class=\"dataframe\">\n",
       "  <thead>\n",
       "    <tr style=\"text-align: right;\">\n",
       "      <th></th>\n",
       "      <th>Input 1</th>\n",
       "      <th>Input 2</th>\n",
       "      <th>XNOR Output</th>\n",
       "    </tr>\n",
       "  </thead>\n",
       "  <tbody>\n",
       "    <tr>\n",
       "      <th>0</th>\n",
       "      <td>0</td>\n",
       "      <td>0</td>\n",
       "      <td>1</td>\n",
       "    </tr>\n",
       "    <tr>\n",
       "      <th>1</th>\n",
       "      <td>0</td>\n",
       "      <td>1</td>\n",
       "      <td>0</td>\n",
       "    </tr>\n",
       "    <tr>\n",
       "      <th>2</th>\n",
       "      <td>1</td>\n",
       "      <td>0</td>\n",
       "      <td>0</td>\n",
       "    </tr>\n",
       "    <tr>\n",
       "      <th>3</th>\n",
       "      <td>1</td>\n",
       "      <td>1</td>\n",
       "      <td>1</td>\n",
       "    </tr>\n",
       "  </tbody>\n",
       "</table>\n",
       "</div>"
      ],
      "text/plain": [
       "   Input 1  Input 2  XNOR Output\n",
       "0        0        0            1\n",
       "1        0        1            0\n",
       "2        1        0            0\n",
       "3        1        1            1"
      ]
     },
     "execution_count": 46,
     "metadata": {},
     "output_type": "execute_result"
    }
   ],
   "source": [
    "df_xnor"
   ]
  },
  {
   "cell_type": "code",
   "execution_count": null,
   "id": "f7612bac",
   "metadata": {},
   "outputs": [],
   "source": []
  },
  {
   "cell_type": "markdown",
   "id": "3dd92220",
   "metadata": {},
   "source": [
    "# References\n",
    "\n",
    "* https://www.researchgate.net/publication/363833055_Modelling_Logic_Gates_in_Python\n",
    "* https://www.digitalocean.com/community/tutorials/logic-gates-in-python\n",
    "* https://www.geeksforgeeks.org/logic-gates-in-python/\n",
    "* https://gamedevacademy.org/python-logic-gates-tutorial-complete-guide/"
   ]
  }
 ],
 "metadata": {
  "hide_input": false,
  "kernelspec": {
   "display_name": "Python 3 (ipykernel)",
   "language": "python",
   "name": "python3"
  },
  "language_info": {
   "codemirror_mode": {
    "name": "ipython",
    "version": 3
   },
   "file_extension": ".py",
   "mimetype": "text/x-python",
   "name": "python",
   "nbconvert_exporter": "python",
   "pygments_lexer": "ipython3",
   "version": "3.9.13"
  },
  "toc": {
   "base_numbering": 1,
   "nav_menu": {},
   "number_sections": true,
   "sideBar": true,
   "skip_h1_title": false,
   "title_cell": "Table of Contents",
   "title_sidebar": "Contents",
   "toc_cell": false,
   "toc_position": {
    "height": "calc(100% - 180px)",
    "left": "10px",
    "top": "150px",
    "width": "307.2px"
   },
   "toc_section_display": true,
   "toc_window_display": true
  }
 },
 "nbformat": 4,
 "nbformat_minor": 5
}
